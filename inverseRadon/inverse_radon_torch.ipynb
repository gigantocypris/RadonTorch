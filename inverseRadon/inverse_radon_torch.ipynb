{
 "cells": [
  {
   "cell_type": "code",
   "execution_count": 53,
   "metadata": {},
   "outputs": [
    {
     "name": "stdout",
     "output_type": "stream",
     "text": [
      "Current directory: /global/u1/g/gchen4/Gary_CT_PVAE/dataset_foam\n",
      "['Untitled.ipynb', 'radon comp 2.png', 'rotate images 4.png', 'rotate images 3.png', 'foam_training.npy', 'y_size.npy', 'Gary_Radon_Transform.py', 'radon comp 0.png', 'benchmark_visualization.py', '.ipynb_checkpoints', 'radon comp 1.png', 'rotate images 2.png', 'rotate images 0.png', 'x_size.npy', 'hojune_radon_torch_modified_by_Gary.ipynb', 'hojune_radon_torch.ipynb', 'Gary_Radon_Transform.ipynb', 'radon comp 3.png', 'radon comp 5.png', 'radon comp 4.png', 'dataset_parameters.npy', 'torch-radon', 'radon comp.png', 'x_train_sinograms.npy', 'rotate images 5.png', 'rotate images.png', 'rotate images 1.png']\n"
     ]
    }
   ],
   "source": [
    "### Author: Gary Chen, Hojune Kim\n",
    "### Date: June 15, 2023\n",
    "### Last Updated: Jun 21, 2023\n",
    "### Description: Inverse Radon Transform (sinogram/measurements -> image/obj)\n",
    "\n",
    "import torch\n",
    "import torch.nn as nn\n",
    "from torchvision.transforms.functional import rotate, InterpolationMode\n",
    "import os\n",
    "import time\n",
    "import numpy as np\n",
    "import matplotlib.pyplot as plt\n",
    "import math\n",
    "\n",
    "# # Change this part to move to the correct directory\n",
    "# !pwd\n",
    "# new_directory = './global/u1/h/hojunek/RadonTorch/'\n",
    "#os.chdir(new_directory)\n",
    "current_directory = os.getcwd()\n",
    "print(\"Current directory:\", current_directory)\n",
    "files = os.listdir(current_directory)\n",
    "print(files)"
   ]
  },
  {
   "cell_type": "code",
   "execution_count": 54,
   "metadata": {},
   "outputs": [],
   "source": [
    "#####################\n",
    "# helper function\n",
    "#####################\n",
    "def plot_1D_tensor(tensor):\n",
    "    # Move tensor to CPU if it resides on a CUDA device\n",
    "    if tensor.is_cuda:\n",
    "        tensor = tensor.cpu()\n",
    "\n",
    "    # Convert tensor to a numpy array\n",
    "    tensor_array = tensor.numpy()\n",
    "\n",
    "    # Plot the tensor\n",
    "    plt.plot(tensor_array)\n",
    "    plt.title(\"1D Tensor Plot\")\n",
    "    plt.xlabel(\"Index\")\n",
    "    plt.ylabel(\"Value\")\n",
    "    plt.show()\n",
    "\n",
    "def plot_2_img_tensor(image1, image2, title1='', title2=''):\n",
    "    # Convert complex-valued tensors to magnitude spectra\n",
    "    if torch.is_complex(image1):\n",
    "        image1 = torch.abs(image1)\n",
    "    if torch.is_complex(image2):\n",
    "        image2 = torch.abs(image2)\n",
    "\n",
    "    # Convert tensors to CPU and numpy arrays\n",
    "    image1_cpu = image1.detach().cpu().numpy()\n",
    "    image2_cpu = image2.detach().cpu().numpy()\n",
    "\n",
    "    # Plot the images\n",
    "    fig, axs = plt.subplots(1, 2, figsize=(10, 5))\n",
    "    axs[0].imshow(image1_cpu, cmap='gray')\n",
    "    axs[0].set_title(title1)\n",
    "    axs[1].imshow(image2_cpu, cmap='gray')\n",
    "    axs[1].set_title(title2)\n",
    "    plt.show()\n",
    "\n",
    "def plot_3_img_tensors(image1, image2, title1=\"img1\", title2=\"img2\"):\n",
    "    image1_cpu = image1.cpu().numpy()\n",
    "    image2_cpu = image2.cpu().numpy()\n",
    "    difference_cpu = (image1 - image2).abs().cpu().numpy()  # Compute the absolute difference\n",
    "    \n",
    "    fig, axs = plt.subplots(1, 3)\n",
    "    axs[0].imshow(image1_cpu, cmap='gray')\n",
    "    axs[0].set_title(title1)\n",
    "    axs[1].imshow(image2_cpu, cmap='gray')\n",
    "    axs[1].set_title(title2)\n",
    "    axs[2].imshow(difference_cpu, cmap='gray')\n",
    "    axs[2].set_title(\"Difference\")\n",
    "    \n",
    "    plt.show()\n",
    "    \n",
    "class Data_loader:\n",
    "    # load .npy file into PyTorch tensor and move it to GPU\n",
    "    def __init__(self):\n",
    "        self.device = torch.device('cuda' if torch.cuda.is_available() else 'cpu')\n",
    "\n",
    "    def npy_to_tensor(self, npy_file_path):\n",
    "        np_data = np.load(npy_file_path)\n",
    "        tensor = torch.from_numpy(np_data).to(self.device)\n",
    "        return tensor\n",
    "data_loader = Data_loader()\n"
   ]
  },
  {
   "cell_type": "code",
   "execution_count": 55,
   "metadata": {},
   "outputs": [
    {
     "name": "stdout",
     "output_type": "stream",
     "text": [
      "Using device: cuda\n"
     ]
    }
   ],
   "source": [
    "# check GPU\n",
    "if torch.cuda.is_available():\n",
    "    device = torch.device('cuda')\n",
    "else:\n",
    "    device = torch.device('cpu')\n",
    "print(f'Using device: {device}')\n"
   ]
  },
  {
   "cell_type": "code",
   "execution_count": 56,
   "metadata": {},
   "outputs": [],
   "source": [
    "# Load data\n",
    "tf_sinograms_tensor = data_loader.npy_to_tensor('./x_train_sinograms.npy')\n",
    "tf_sinogram = tf_sinograms_tensor[0,:,:]\n"
   ]
  },
  {
   "cell_type": "code",
   "execution_count": 57,
   "metadata": {},
   "outputs": [],
   "source": [
    "def radon_transform(sinogram):\n",
    "    num_angles = sinogram.size(0)\n",
    "    img_size = sinogram.size(1)\n",
    "    print(f'sinogram shape is {sinogram.shape}')\n",
    "\n",
    "    # Create an empty tensor to store the 2D FFT image\n",
    "    fft_image = torch.zeros((img_size, img_size), dtype=torch.cfloat)\n",
    "\n",
    "    # Perform the Radon transform\n",
    "    for angle in range(num_angles):\n",
    "        projection = sinogram[angle]\n",
    "\n",
    "        # Compute the 1D FFT of the projection\n",
    "        projection_fft = torch.fft.fft(projection)\n",
    "        \n",
    "        # # Uncomment this if you want to see FFT results\n",
    "        plot_1D_tensor(projection)\n",
    "        print(f'projection shape is {projection.shape}')\n",
    "        plot_1D_tensor(projection_fft)\n",
    "        print(f'projection fft shape is {projection_fft.shape}')\n",
    "        # break \n",
    "\n",
    "        # Calculate the shift amount for circular pattern\n",
    "        angle_radians = angle * (2 * math.pi / num_angles)\n",
    "        shift_amount = math.floor(img_size / 2) * (1 - math.cos(angle_radians))\n",
    "\n",
    "        # Create temp_2D_fft with projection_fft in the center and rest as zero\n",
    "        temp_2D_fft = torch.zeros((img_size, img_size), dtype=torch.cfloat)\n",
    "        center_y = img_size // 2\n",
    "        temp_2D_fft[center_y] = projection_fft\n",
    "\n",
    "        # Reshape temp_2D_fft for rotate function\n",
    "        temp_2D_fft = temp_2D_fft.unsqueeze(0).permute(0, 2, 1)\n",
    "\n",
    "        # Rotate the temp_2D_fft\n",
    "        rotated_projection_fft = rotate(temp_2D_fft, -shift_amount, interpolation=InterpolationMode.BILINEAR)\n",
    "\n",
    "        # Reshape rotated_projection_fft back to original shape\n",
    "        rotated_projection_fft = rotated_projection_fft.permute(0, 2, 1).squeeze(0)\n",
    "\n",
    "        # Accumulate the rotated projection FFT to create fft_image\n",
    "        fft_image += ection_fft\n",
    "        break \n",
    "    return fft_image\n"
   ]
  },
  {
   "cell_type": "code",
   "execution_count": 58,
   "metadata": {},
   "outputs": [
    {
     "name": "stdout",
     "output_type": "stream",
     "text": [
      "sinogram shape is torch.Size([180, 184])\n"
     ]
    },
    {
     "data": {
      "image/png": "[encoded data removed]",
      "text/plain": [
       "<Figure size 432x288 with 1 Axes>"
      ]
     },
     "metadata": {
      "needs_background": "light"
     },
     "output_type": "display_data"
    },
    {
     "name": "stdout",
     "output_type": "stream",
     "text": [
      "projection shape is torch.Size([184])\n"
     ]
    },
    {
     "name": "stderr",
     "output_type": "stream",
     "text": [
      "/global/common/software/nersc/shasta2105/pytorch/1.9.0/lib/python3.8/site-packages/numpy/core/_asarray.py:102: ComplexWarning: Casting complex values to real discards the imaginary part\n",
      "  return array(a, dtype, copy=False, order=order)\n"
     ]
    },
    {
     "data": {
      "image/png": "[encoded data removed]",
      "text/plain": [
       "<Figure size 432x288 with 1 Axes>"
      ]
     },
     "metadata": {
      "needs_background": "light"
     },
     "output_type": "display_data"
    },
    {
     "name": "stdout",
     "output_type": "stream",
     "text": [
      "projection fft shape is torch.Size([184])\n"
     ]
    },
    {
     "ename": "NameError",
     "evalue": "name 'ection_fft' is not defined",
     "output_type": "error",
     "traceback": [
      "\u001b[0;31m---------------------------------------------------------------------------\u001b[0m",
      "\u001b[0;31mNameError\u001b[0m                                 Traceback (most recent call last)",
      "\u001b[0;32m/tmp/ipykernel_320117/3531677109.py\u001b[0m in \u001b[0;36m<module>\u001b[0;34m\u001b[0m\n\u001b[0;32m----> 1\u001b[0;31m \u001b[0mddd\u001b[0m \u001b[0;34m=\u001b[0m \u001b[0mradon_transform\u001b[0m\u001b[0;34m(\u001b[0m\u001b[0mtf_sinogram\u001b[0m\u001b[0;34m)\u001b[0m\u001b[0;34m\u001b[0m\u001b[0;34m\u001b[0m\u001b[0m\n\u001b[0m\u001b[1;32m      2\u001b[0m \u001b[0mplot_2_img_tensor\u001b[0m\u001b[0;34m(\u001b[0m\u001b[0mtf_sinogram\u001b[0m\u001b[0;34m,\u001b[0m\u001b[0mddd\u001b[0m\u001b[0;34m)\u001b[0m\u001b[0;34m\u001b[0m\u001b[0;34m\u001b[0m\u001b[0m\n",
      "\u001b[0;32m/tmp/ipykernel_320117/65765028.py\u001b[0m in \u001b[0;36mradon_transform\u001b[0;34m(sinogram)\u001b[0m\n\u001b[1;32m     40\u001b[0m \u001b[0;34m\u001b[0m\u001b[0m\n\u001b[1;32m     41\u001b[0m         \u001b[0;31m# Accumulate the rotated projection FFT to create fft_image\u001b[0m\u001b[0;34m\u001b[0m\u001b[0;34m\u001b[0m\u001b[0;34m\u001b[0m\u001b[0m\n\u001b[0;32m---> 42\u001b[0;31m         \u001b[0mfft_image\u001b[0m \u001b[0;34m+=\u001b[0m \u001b[0mection_fft\u001b[0m\u001b[0;34m\u001b[0m\u001b[0;34m\u001b[0m\u001b[0m\n\u001b[0m\u001b[1;32m     43\u001b[0m         \u001b[0;32mbreak\u001b[0m\u001b[0;34m\u001b[0m\u001b[0;34m\u001b[0m\u001b[0m\n\u001b[1;32m     44\u001b[0m     \u001b[0;32mreturn\u001b[0m \u001b[0mfft_image\u001b[0m\u001b[0;34m\u001b[0m\u001b[0;34m\u001b[0m\u001b[0m\n",
      "\u001b[0;31mNameError\u001b[0m: name 'ection_fft' is not defined"
     ]
    }
   ],
   "source": [
    "ddd = radon_transform(tf_sinogram)\n",
    "plot_2_img_tensor(tf_sinogram,ddd)"
   ]
  }
 ],
 "metadata": {
  "kernelspec": {
   "display_name": "pytorch-1.9.0",
   "language": "python",
   "name": "pytorch-1.9.0"
  },
  "language_info": {
   "codemirror_mode": {
    "name": "ipython",
    "version": 3
   },
   "file_extension": ".py",
   "mimetype": "text/x-python",
   "name": "python",
   "nbconvert_exporter": "python",
   "pygments_lexer": "ipython3",
   "version": "3.8.11"
  },
  "orig_nbformat": 4
 },
 "nbformat": 4,
 "nbformat_minor": 2
}
